{
  "nbformat": 4,
  "nbformat_minor": 0,
  "metadata": {
    "colab": {
      "provenance": [],
      "include_colab_link": true
    },
    "kernelspec": {
      "name": "python3",
      "display_name": "Python 3"
    },
    "language_info": {
      "name": "python"
    }
  },
  "cells": [
    {
      "cell_type": "markdown",
      "metadata": {
        "id": "view-in-github",
        "colab_type": "text"
      },
      "source": [
        "<a href=\"https://colab.research.google.com/github/realty6/Python_BigData/blob/main/python_practice_5.ipynb\" target=\"_parent\"><img src=\"https://colab.research.google.com/assets/colab-badge.svg\" alt=\"Open In Colab\"/></a>"
      ]
    },
    {
      "cell_type": "markdown",
      "source": [
        "# I. OOP"
      ],
      "metadata": {
        "id": "5qV_sehzFCTp"
      }
    },
    {
      "cell_type": "markdown",
      "source": [
        "1. (6б). Створіть клас Animal, додайте три атрибути, один з яких має значення за замовчуванням та два методи на свій розсуд."
      ],
      "metadata": {
        "id": "tx_U_hOALyfg"
      }
    },
    {
      "cell_type": "code",
      "source": [
        "class Animal():\n",
        "  def __init__(self, mammals, birds, fish = 2000):\n",
        "    self.mammals = mammals\n",
        "    self.birds = birds\n",
        "    self.fish = fish\n",
        "\n",
        "  def amount_animal(self):\n",
        "    print(f\"mammals:{self.mammals}\")\n",
        "    print(f\"birds:{self.birds}\")\n",
        "    print(f\"fish:{self.fish}\")\n",
        "\n",
        "  def expexting_amout_2050(self, amount_mammals_2050, amount_birds_2050, amount_fish_2050):\n",
        "     self.mammals = amount_mammals_2050\n",
        "     self.birds = amount_birds_2050\n",
        "     self.fish = amount_fish_2050\n",
        "\n",
        "     print(\"Очікувана кількість тварин у 2050 році:\")\n",
        "     self.amount_animal()\n",
        "\n",
        "\n",
        "zoo = Animal(mammals=150, birds=300)\n",
        "zoo.amount_animal()\n",
        "\n",
        "zoo.expexting_amout_2050(amount_mammals_2050=100, amount_birds_2050=250, amount_fish_2050=1500)"
      ],
      "metadata": {
        "id": "-Vf895KaL88N",
        "colab": {
          "base_uri": "https://localhost:8080/"
        },
        "outputId": "38df00a3-b090-4c7f-dfb1-f0053ebaf1cc"
      },
      "execution_count": null,
      "outputs": [
        {
          "output_type": "stream",
          "name": "stdout",
          "text": [
            "mammals:150\n",
            "birds:300\n",
            "fish:2000\n",
            "Очікувана кількість тварин у 2050 році:\n",
            "mammals:100\n",
            "birds:250\n",
            "fish:1500\n"
          ]
        }
      ]
    },
    {
      "cell_type": "markdown",
      "source": [
        "2. (2б). Створіть два обʼєкти цього класу, де один з обʼєктів створюється із дефолтним значенням атрибуту. На одному обʼєкті отримайте значення його атрибуту, а на іншому викличте один з його методів."
      ],
      "metadata": {
        "id": "X_UlOMB0L93w"
      }
    },
    {
      "cell_type": "code",
      "source": [
        "class Animal():\n",
        "  def __init__(self, mammals, birds, fish = 2000):\n",
        "    self.mammals = mammals\n",
        "    self.birds = birds\n",
        "    self.fish = fish\n",
        "\n",
        "  def amount_animal(self):\n",
        "    print(f\"mammals:{self.mammals}\")\n",
        "    print(f\"birds:{self.birds}\")\n",
        "    print(f\"fish:{self.fish}\")\n",
        "\n",
        "  def expexting_amout_2050(self, amount_mammals_2050, amount_birds_2050, amount_fish_2050):\n",
        "     self.mammals = amount_mammals_2050\n",
        "     self.birds = amount_birds_2050\n",
        "     self.fish = amount_fish_2050\n",
        "\n",
        "     print(\"Очікувана кількість тварин у 2050 році:\")\n",
        "     self.amount_animal()\n",
        "\n",
        "\n",
        "zoo1 = Animal(mammals=150, birds=300)\n",
        "zoo1.amount_animal()\n",
        "\n",
        "zoo2 = Animal(mammals=150, birds=300, fish = 1000)\n",
        "zoo2.amount_animal()\n",
        "\n",
        "print(f\"amount fish: {zoo1.fish}\")"
      ],
      "metadata": {
        "id": "7gBu0ESOMCpG",
        "colab": {
          "base_uri": "https://localhost:8080/"
        },
        "outputId": "d092791b-792b-414f-e47d-1c9a5a9045d7"
      },
      "execution_count": 11,
      "outputs": [
        {
          "output_type": "stream",
          "name": "stdout",
          "text": [
            "mammals:150\n",
            "birds:300\n",
            "fish:2000\n",
            "mammals:150\n",
            "birds:300\n",
            "fish:1000\n",
            "amount fish: 2000\n"
          ]
        }
      ]
    },
    {
      "cell_type": "markdown",
      "source": [
        "3. (5б). Створіть клас, де атрибути мають різні рівні доступу. Спробуйте отримати їхні значення та опишіть результати."
      ],
      "metadata": {
        "id": "HoqSCZt1MHn5"
      }
    },
    {
      "cell_type": "code",
      "source": [
        "class Animal():\n",
        "  def __init__(self, mammals, birds, fish = 2000):\n",
        "    self.__mammals = mammals\n",
        "    self._birds = birds\n",
        "    self.fish = fish\n",
        "\n",
        "  def amount_animal(self):\n",
        "    print(f\"mammals:{self.__mammals}\")\n",
        "    print(f\"birds:{self._birds}\")\n",
        "    print(f\"fish:{self.fish}\")\n",
        "\n",
        "zoo1 = Animal(mammals=150, birds=300)\n",
        "zoo1.amount_animal()\n",
        "# print(f\"amount mammals: {zoo1.mammals}\")\n",
        "print(f\"amount birds: {zoo1._birds}\")"
      ],
      "metadata": {
        "id": "r9b3vJxBMSPV",
        "colab": {
          "base_uri": "https://localhost:8080/"
        },
        "outputId": "42828524-645d-4de8-bd72-0a420e048b17"
      },
      "execution_count": 15,
      "outputs": [
        {
          "output_type": "stream",
          "name": "stdout",
          "text": [
            "mammals:150\n",
            "birds:300\n",
            "fish:2000\n",
            "amount birds: 300\n"
          ]
        }
      ]
    },
    {
      "cell_type": "markdown",
      "source": [
        "4. (7б). Як ви розумієте термін self? Для чого використовується метод __init __?"
      ],
      "metadata": {
        "id": "5op2m2vgMSkZ"
      }
    },
    {
      "cell_type": "markdown",
      "source": [
        "__init__ - створеня/ініціалізація нового об'єкту. Встановлення характеристик\n",
        "\n",
        "self - я це розумію як слово \"Я\" або словосполучення я \"це стосується мене\", тобто коли об'єкт хоче використовувати свої власні властивості або виконувати свої дії"
      ],
      "metadata": {
        "id": "DyiPqNRvMasx"
      }
    },
    {
      "cell_type": "markdown",
      "source": [
        "5. (9б). Створіть клас Фігура без атрибутів, з методом get_area для отримання площі фігури, що повертає 0 та __add __, який приймає self та other в якості аргументів, а повертає суму площин фігур self та other."
      ],
      "metadata": {
        "id": "-6X8EGfjMd2y"
      }
    },
    {
      "cell_type": "code",
      "source": [
        "class Figure():\n",
        "  pass\n",
        "\n",
        "  def get_area(self):\n",
        "    return 0\n",
        "\n",
        "  def __add__(self, other):\n",
        "    return self.get_area() + other.get_area()\n",
        "\n",
        "figure1 = Figure()\n",
        "figure2 = Figure()\n",
        "\n",
        "sum = figure1 + figure2\n",
        "\n",
        "print(sum)\n",
        "\n"
      ],
      "metadata": {
        "id": "4rvO_wYUMaEr",
        "colab": {
          "base_uri": "https://localhost:8080/"
        },
        "outputId": "596920d3-b748-4d8b-bac2-d27d428a90ac"
      },
      "execution_count": 22,
      "outputs": [
        {
          "output_type": "stream",
          "name": "stdout",
          "text": [
            "0\n"
          ]
        }
      ]
    },
    {
      "cell_type": "markdown",
      "source": [
        "6. (11б). Створіть 2 дочірніх класи від Фігури: Трикутник та Коло, які мають атрибути, необхідні для розрахунку площин. Визначте метод get_area в кожному з них так, щоби вони розраховували площу в залежності від формули для кожного типу фігури. Створіть обʼєкт класу Трикутник та обʼєкт класу Коло. Виконайте операцію суми за допомогою оператора + між ними."
      ],
      "metadata": {
        "id": "SFcKnnv5Mo_z"
      }
    },
    {
      "cell_type": "code",
      "source": [
        "class Figure():\n",
        "  def __init__(self, Triangle, Circle):\n",
        "    pass\n",
        "\n",
        "class Triangle(Figure):\n",
        "    def __init__(self, side_a, side_b, side_c, height_a, height_b, height_c):\n",
        "        self.side_a = side_a\n",
        "        self.height_a = height_a\n",
        "\n",
        "    def get_area(self):\n",
        "        return (1/2) * self.side_a * self.height_a\n",
        "\n",
        "class Circle(Figure):\n",
        "    def __init__(self, r, pi = 3.14):\n",
        "        self.r = r\n",
        "        self.pi = pi\n",
        "\n",
        "    def get_area(self):\n",
        "        return self.pi * self.r ** 2\n",
        "\n",
        "\n",
        "triangle = Triangle(3, 4, 5, 2, 2, 2)\n",
        "print(triangle.get_area())\n",
        "\n",
        "circle = Circle(2)\n",
        "print(circle.get_area())\n",
        "\n",
        "sum = triangle.get_area() + circle.get_area()\n",
        "print(sum)"
      ],
      "metadata": {
        "id": "H3GVNr69Muf3",
        "colab": {
          "base_uri": "https://localhost:8080/"
        },
        "outputId": "c8b2bafa-4080-473a-be53-fadc6fc53817"
      },
      "execution_count": 37,
      "outputs": [
        {
          "output_type": "stream",
          "name": "stdout",
          "text": [
            "3.0\n",
            "12.56\n",
            "15.56\n"
          ]
        }
      ]
    },
    {
      "cell_type": "markdown",
      "source": [
        "7. (3б). Продемонструйте різницю між isinstance та issubclass."
      ],
      "metadata": {
        "id": "HCvR206YMvLK"
      }
    },
    {
      "cell_type": "code",
      "source": [
        "# isinstance\n",
        "isinstance(object, classinfo)\n",
        "class Pet:\n",
        "    pass\n",
        "\n",
        "class Dog(Pet):\n",
        "    pass\n",
        "\n",
        "class Cat(Pet):\n",
        "    pass\n",
        "\n",
        "\n",
        "my_dog = Dog()\n",
        "my_cat = Cat()\n",
        "\n",
        "print(isinstance(my_dog, Dog))  # True\n",
        "print(isinstance(my_dog, Pet))  # True\n",
        "print(isinstance(my_dog, Cat))  # False\n",
        "print(isinstance(my_cat, Pet))  # True\n",
        "\n",
        "\n",
        "#issubclass\n",
        "issubclass(class, classinfo) # чи є клас підкласом іншого класу\n"
      ],
      "metadata": {
        "id": "L_V1bBvDM0GN"
      },
      "execution_count": null,
      "outputs": []
    },
    {
      "cell_type": "markdown",
      "source": [
        "8. (13б). Створіть клас BankAccount з приватними атрибутами balance та account_number. Реалізуйте методи поповнення та зняття коштів, забезпечивши належну інкапсуляцію. Підказка: використовуйте декоратори property та setter."
      ],
      "metadata": {
        "id": "jjsaBZ-iM0Qq"
      }
    },
    {
      "cell_type": "code",
      "source": [
        "class BankAccount:\n",
        "    def __init__(self, account_number, balance):\n",
        "        self.__account_number = account_number\n",
        "        self.__balance = balance\n",
        "\n",
        "    @property\n",
        "    def balance(self):\n",
        "        return self.__balance\n",
        "\n",
        "    @balance.setter\n",
        "    def balance(self, value):\n",
        "        if value < 0:\n",
        "            raise ValueError(\"Баланс не може бути від'ємним\")\n",
        "        self.__balance = value\n",
        "\n",
        "    def deposit(self, amount):\n",
        "        if amount <= 0:\n",
        "            raise ValueError(\"Сума поповнення має бути більшою за 0\")\n",
        "        self.__balance += amount\n",
        "\n",
        "    def withdraw(self, amount):\n",
        "        if amount <= 0:\n",
        "            raise ValueError(\"Сума зняття має бути більшою за 0\")\n",
        "        if amount > self.__balance:\n",
        "            raise ValueError(\"Недостатньо коштів на рахунку\")\n",
        "        self.__balance -= amount\n",
        "\n",
        "    @property\n",
        "    def account_number(self):\n",
        "        return self.__account_number\n"
      ],
      "metadata": {
        "id": "xCvZ7lh8M7YA"
      },
      "execution_count": 39,
      "outputs": []
    },
    {
      "cell_type": "markdown",
      "source": [
        "9. (11б). Створіть клас Library, який містить список об'єктів типу Book. Реалізуйте методи для додавання книги, видалення книги та відображення списку книг."
      ],
      "metadata": {
        "id": "tIzL2SJTM8ft"
      }
    },
    {
      "cell_type": "code",
      "source": [
        "class Book():\n",
        "    def __init__(self, name_book, author_book, quantity_book):\n",
        "        self.name = name_book\n",
        "        self.author = author_book\n",
        "        self.quantity = quantity_book\n",
        "    def __str__(self):\n",
        "        return f\"'{self.name}' by {self.author}, Quantity: {self.quantity}\"\n",
        "\n",
        "class Library():\n",
        "    def __init__(self):\n",
        "        self.books = []\n",
        "\n",
        "    def add_book(self, new_book):\n",
        "        self.books.append(new_book)\n",
        "\n",
        "    def remove_book(self, name):\n",
        "        for book in self.books:\n",
        "            if book.name == name:\n",
        "                self.books.remove(book)\n",
        "                return True\n",
        "        return False\n",
        "    def list_books(self):\n",
        "        if not self.books:\n",
        "            print(\"The library has no books.\")\n",
        "        else:\n",
        "            for book in self.books:\n",
        "                print(book)\n",
        "\n",
        "\n",
        "library = Library()\n",
        "\n",
        "library.add_book(Book(\"Sherlock Holmes\", \"Arthur Conan Doyle\", 3))\n",
        "library.add_book(Book(\"The Great Gatsby\", \"F. Scott Fitzgerald\", 2))\n",
        "\n",
        "\n",
        "print(\"Library books:\")\n",
        "library.list_books()\n",
        "\n",
        "print(\"After removing: \")\n",
        "library.remove_book(\"Sherlock Holmes\")\n",
        "library.list_books()"
      ],
      "metadata": {
        "id": "HWxfJKLtNAUZ",
        "colab": {
          "base_uri": "https://localhost:8080/"
        },
        "outputId": "af541a34-e4ad-4ada-f37d-99719e89d6d6"
      },
      "execution_count": 12,
      "outputs": [
        {
          "output_type": "stream",
          "name": "stdout",
          "text": [
            "[<__main__.Book object at 0x79b246122bf0>]\n"
          ]
        }
      ]
    },
    {
      "cell_type": "markdown",
      "source": [
        "10. (13б). Створіть клас Person з атрибутами name та age. Створіть ще один клас Employee з такими атрибутами, як department та salary. Створіть клас Manager, який успадковує обидва класи Person та Employee. Продемонструйте використання множинної спадковості, створивши обʼєкт класу Manager та отримавши mro для цього класу."
      ],
      "metadata": {
        "id": "lmV8pAwwNIqu"
      }
    },
    {
      "cell_type": "code",
      "source": [
        "class Person():\n",
        "    def __init__(self, name, age):\n",
        "        self.name = name\n",
        "        self.age = age\n",
        "\n",
        "class Employee():\n",
        "    def __init__(self, departament, salary):\n",
        "        self.departament = departament\n",
        "        self.salary = salary\n",
        "\n",
        "class Manager(Person, Employee):\n",
        "    def __init__(self, name, age, departament, salary):\n",
        "        Person.__init__(self, name, age)\n",
        "        Employee.__init__(self, departament, salary)\n",
        "\n",
        "    # def __str__(self):\n",
        "    #     return f\"Manager Name: {self.name}, Age: {self.age}, Department: {self.departament}, Salary: {self.salary}\"\n",
        "\n",
        "\n",
        "print(Manager.mro())\n",
        "\n",
        "# manager = Manager('John Doe', 40, 'IT', 5000)\n",
        "#\n",
        "# print(manager)"
      ],
      "metadata": {
        "id": "R49grKlWNPeN"
      },
      "execution_count": null,
      "outputs": []
    },
    {
      "cell_type": "markdown",
      "source": [
        "# II. Iterator"
      ],
      "metadata": {
        "id": "dIJyUiNBFG8G"
      }
    },
    {
      "cell_type": "markdown",
      "source": [
        "11. (4б). Визначте рядок(str) з 4ма різними за значенням символами. Створіть ітератор на основі цього рядка. Викличте 5 разів функцію next на ітераторі, 4ри перших з них огорніть у ф-цію print()."
      ],
      "metadata": {
        "id": "13vsm0NyKIzL"
      }
    },
    {
      "cell_type": "code",
      "source": [
        "str = \"ABCD\"\n",
        "\n",
        "iterator = iter(str)\n",
        "\n",
        "print(next(iterator))\n",
        "print(next(iterator))\n",
        "print(next(iterator))\n",
        "print(next(iterator))\n",
        "\n",
        "try:\n",
        "    next(iterator)\n",
        "except StopIteration:\n",
        "    print(\"stop\")"
      ],
      "metadata": {
        "id": "81ntabAkKuz-",
        "colab": {
          "base_uri": "https://localhost:8080/"
        },
        "outputId": "dc64e400-5def-4999-9d3b-16966b7c96e7"
      },
      "execution_count": 14,
      "outputs": [
        {
          "output_type": "stream",
          "name": "stdout",
          "text": [
            "A\n",
            "B\n",
            "C\n",
            "D\n",
            "stop\n"
          ]
        }
      ]
    },
    {
      "cell_type": "markdown",
      "source": [
        "А що якщо викликати цю ж функцію на рядку?"
      ],
      "metadata": {
        "id": "aekWHGXOLRsO"
      }
    },
    {
      "cell_type": "code",
      "source": [],
      "metadata": {
        "id": "mxATGsErLV1i"
      },
      "execution_count": null,
      "outputs": []
    },
    {
      "cell_type": "markdown",
      "source": [
        " 12. (5б). Опишіть своїми словами в одному реченні, як ви розумієте різницю між ітерабельними обʼєктами та ітераторами (можна на прикладі)."
      ],
      "metadata": {
        "id": "XwtMEopwJ4pH"
      }
    },
    {
      "cell_type": "markdown",
      "source": [
        "Ітерабельні об'єкти - списки, кортежі, сети, словники, рядки\n",
        "Ітератори - процес перебирання елементів ітерабельного об'єкту\n",
        "\n"
      ],
      "metadata": {
        "id": "-sHrODc3KFn8"
      }
    },
    {
      "cell_type": "markdown",
      "source": [
        "13. (11б). Створіть клас, що має визначений Iterator Protocol та при кожному виклику next повертає літери англійської абетки, поки вони не вичерпаються."
      ],
      "metadata": {
        "id": "E9qJWmNbK8Gl"
      }
    },
    {
      "cell_type": "code",
      "source": [
        "class IteratorAbetka:\n",
        "    def __init__(self, abetka):\n",
        "        self.abetka = abetka\n",
        "        self.index = 0\n",
        "\n",
        "    def __iter__(self):\n",
        "        return self\n",
        "\n",
        "    def __next__(self):\n",
        "        if self.index < len(self.abetka):\n",
        "            letter = self.abetka[self.index]\n",
        "            self.index += 1\n",
        "            return letter\n",
        "        else:\n",
        "            raise StopIteration\n",
        "\n",
        "\n",
        "english = IteratorAbetka('ABCDEFGHIJKLMNOPQRSTUVWXYZ')\n",
        "\n",
        "\n",
        "for letter in english:\n",
        "    print(letter)\n"
      ],
      "metadata": {
        "id": "cqx-g_RsLo6I"
      },
      "execution_count": null,
      "outputs": []
    },
    {
      "cell_type": "markdown",
      "source": [
        "# Вітаю! Ви велика(ий) молодець, що впоралась(вся). Похваліть себе та побалуйте чимось приємним. Я Вами пишаюся."
      ],
      "metadata": {
        "id": "Z3E3S_s1Fv7-"
      }
    }
  ]
}