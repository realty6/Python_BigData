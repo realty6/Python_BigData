{
  "nbformat": 4,
  "nbformat_minor": 0,
  "metadata": {
    "colab": {
      "provenance": [],
      "include_colab_link": true
    },
    "kernelspec": {
      "name": "python3",
      "display_name": "Python 3"
    },
    "language_info": {
      "name": "python"
    }
  },
  "cells": [
    {
      "cell_type": "markdown",
      "metadata": {
        "id": "view-in-github",
        "colab_type": "text"
      },
      "source": [
        "<a href=\"https://colab.research.google.com/github/realty6/Python_BigData/blob/main/%D0%9B%D0%B5%D0%BA%D1%86%D1%96%D1%8F_3_python.ipynb\" target=\"_parent\"><img src=\"https://colab.research.google.com/assets/colab-badge.svg\" alt=\"Open In Colab\"/></a>"
      ]
    },
    {
      "cell_type": "code",
      "source": [
        "# python - є динамічно типизованою мовою"
      ],
      "metadata": {
        "id": "pR63ybtHi6dq"
      },
      "execution_count": null,
      "outputs": []
    },
    {
      "cell_type": "code",
      "execution_count": null,
      "metadata": {
        "colab": {
          "base_uri": "https://localhost:8080/"
        },
        "id": "fxBbB95ziLxK",
        "outputId": "68ede5b9-4599-43b6-df38-5d7ecb74dad7"
      },
      "outputs": [
        {
          "output_type": "stream",
          "name": "stdout",
          "text": [
            "{1, 2, 3, 4}\n"
          ]
        }
      ],
      "source": [
        "# Sets\n",
        "\n",
        "# Основна ідея - зберігати унікальні елементи\n",
        "# Muttable\n",
        "\n",
        "set_var = {1, 2, 3, 4}\n",
        "set_var_2 = set((1, 2, 3 ,4))\n",
        "\n",
        "# Empty Sets\n",
        "empty_set = {}\n",
        "isinstance(empty_set, set) # False\n",
        "\n",
        "truly_empty_set = set(())\n",
        "isinstance(truly_empty_set, set) # True\n",
        "\n",
        "# Duplicates\n",
        "my_set_with_duplicates = {1, 2, 2, 3, 3, 4, 4}\n",
        "print(my_set_with_duplicates) # {1, 2, 3, 4}\n",
        "# ніколи не довіряйте порядку в множинах"
      ]
    },
    {
      "cell_type": "code",
      "source": [
        "my_set_with_duplicates = {1, 2, 2, 3, 3, 4, 4}\n",
        "my_set_with_duplicates.add()\n",
        "print(my_set_with_duplicates)\n",
        "# додається хаотично"
      ],
      "metadata": {
        "colab": {
          "base_uri": "https://localhost:8080/"
        },
        "id": "9w5jdT7J2rup",
        "outputId": "2d040c50-ed2d-415f-8225-8c959a6a6445"
      },
      "execution_count": null,
      "outputs": [
        {
          "output_type": "stream",
          "name": "stdout",
          "text": [
            "{1, 2, 3, 4, (1, 2, 3)}\n"
          ]
        }
      ]
    },
    {
      "cell_type": "code",
      "source": [
        "# Операції з сетами\n",
        "\n",
        "my_set_1 = {1, 2, 3, 3, 4}\n",
        "my_set_2 = {3, 4, 5, 6}\n",
        "\n",
        "\n",
        "# Difference - Віднімання\n",
        "my_set_1.difference(my_set_2) # {1, 2}\n",
        "my_set_2.difference(my_set_1) # {5, 6}\n",
        "# 1. ці операції не зеркальні\n",
        "# 2. вони виконується без збереження в змінних\n",
        "\n",
        "my_set_1.difference_update(my_set_2)\n",
        "print(my_set_1) # {1, 2}, тобто ми преобразували зміну my_set_1\n",
        "\n",
        "\n",
        "# POP - випадково забирає елемент\n",
        "removed_element = my_set_2.pop()\n",
        "print(removed_element)\n",
        "\n",
        "\n",
        "# discard - видалення елементу\n",
        "my_set_2.discard(3)\n",
        "print(my_set_2)"
      ],
      "metadata": {
        "colab": {
          "base_uri": "https://localhost:8080/"
        },
        "id": "Rige2sh53rDM",
        "outputId": "2793b72f-28da-425b-c30e-3ccce4ba48de"
      },
      "execution_count": null,
      "outputs": [
        {
          "output_type": "stream",
          "name": "stdout",
          "text": [
            "{1, 2}\n",
            "3\n",
            "{4, 5, 6}\n"
          ]
        }
      ]
    },
    {
      "cell_type": "code",
      "source": [
        "# Dictionary\n",
        "\n",
        "# Ключ - Значення (Ключ : Значення, )\n",
        "\n",
        "# ключі - унікальні\n",
        "\n",
        "# хеш-функція - це функція, що перетворює вхідні дані (або \"повідомлення\")\n",
        "# будь-якої довжини в зазвичай короткий, фіксованого розміру бітовий рядок,\n",
        "# який називається хеш-кодом, хешем, або хеш-значенням.\n",
        "\n"
      ],
      "metadata": {
        "id": "OQYdgL9t6bil"
      },
      "execution_count": null,
      "outputs": []
    },
    {
      "cell_type": "code",
      "source": [
        "my_dict = {'a' : 99, 78.9 : \"123\", True : None}\n",
        "print(my_dict)\n",
        "\n",
        "empty_dict = {}\n",
        "isinstance(empty_dict, dict) # dict\n",
        "\n",
        "error_dict = {[1, 2, 3] : 78} # list не може бути ключом\n"
      ],
      "metadata": {
        "id": "ecQSvYJ5TM6t"
      },
      "execution_count": null,
      "outputs": []
    },
    {
      "cell_type": "code",
      "source": [
        "magic_dict = {1 : 99, True : 100}\n",
        "print(magic_dict) # {1: 100}, так як 1 та True - мають однаковий результат хеш-функції\n",
        "\n",
        "my_new_dict = {1 : 'Nina', 2 : 'Abatoliy', 3 : 'Ivan', 4 : 'Kristina'}\n",
        "my_new_dict = {1 : 'Nina',\n",
        "               2 : 'Abatoliy',\n",
        "               3 : 'Ivan',\n",
        "               4 : 'Kristina'}\n",
        "my_new_dict[3]\n",
        "\n",
        "# GET - викликає не помилку\n",
        "my_new_dict.get(6, 'Noname')\n",
        "\n"
      ],
      "metadata": {
        "colab": {
          "base_uri": "https://localhost:8080/",
          "height": 53
        },
        "id": "GqbTz6RlUHTo",
        "outputId": "218f88e2-4a27-47f0-847c-d839894122ae"
      },
      "execution_count": null,
      "outputs": [
        {
          "output_type": "stream",
          "name": "stdout",
          "text": [
            "{1: 100}\n"
          ]
        },
        {
          "output_type": "execute_result",
          "data": {
            "text/plain": [
              "'Noname'"
            ],
            "application/vnd.google.colaboratory.intrinsic+json": {
              "type": "string"
            }
          },
          "metadata": {},
          "execution_count": 52
        }
      ]
    },
    {
      "cell_type": "code",
      "source": [
        "my_new_dict = {1 : 'Nina', 2 : 'Abatoliy', 3 : 'Ivan', 4 : 'Kristina'}\n",
        "my_new_dict = {1 : 'Nina',\n",
        "               2 : 'Abatoliy',\n",
        "               3 : 'Ivan',\n",
        "               4 : 'Kristina'}\n",
        "print(my_new_dict.keys())\n",
        "print(my_new_dict.values())\n",
        "\n"
      ],
      "metadata": {
        "colab": {
          "base_uri": "https://localhost:8080/"
        },
        "id": "J5gP5Ih9XF6A",
        "outputId": "97ca95fa-3e7a-4ceb-bfcc-1fc7a326b7d0"
      },
      "execution_count": null,
      "outputs": [
        {
          "output_type": "stream",
          "name": "stdout",
          "text": [
            "dict_keys([1, 2, 3, 4])\n",
            "dict_values(['Nina', 'Abatoliy', 'Ivan', 'Kristina'])\n"
          ]
        }
      ]
    },
    {
      "cell_type": "code",
      "source": [
        "# if - якщо\n",
        "# else - також\n",
        "# elif - якщо також\n",
        "\n",
        "a = 0\n",
        "if(4 < 3):\n",
        "  print('True')\n",
        "  a+=1 # a= a + 1\n",
        "  print(a)\n",
        "else :\n",
        "    print('False')\n",
        "    a-=1\n",
        "    print(a)"
      ],
      "metadata": {
        "colab": {
          "base_uri": "https://localhost:8080/"
        },
        "id": "WoMAqSR23Fii",
        "outputId": "cbf82146-c028-490b-afed-a09e584e1ca6"
      },
      "execution_count": null,
      "outputs": [
        {
          "output_type": "stream",
          "name": "stdout",
          "text": [
            "False\n",
            "-1\n"
          ]
        }
      ]
    },
    {
      "cell_type": "code",
      "source": [
        "# is - перевірка за значенням та id\n",
        "a = 0\n",
        "a += 1\n",
        "b = 1\n",
        "a == b # True\n",
        "a is b # True\n",
        "\n",
        "a = 1000\n",
        "a += 1\n",
        "b = 1001\n",
        "a == b # True\n",
        "a is b # False"
      ],
      "metadata": {
        "colab": {
          "base_uri": "https://localhost:8080/"
        },
        "id": "DYis0SbsGGS0",
        "outputId": "8f6cfaf2-a3d2-40d0-cbcd-7f37de8bbe96"
      },
      "execution_count": null,
      "outputs": [
        {
          "output_type": "execute_result",
          "data": {
            "text/plain": [
              "False"
            ]
          },
          "metadata": {},
          "execution_count": 17
        }
      ]
    },
    {
      "cell_type": "code",
      "source": [
        "# if визначає умову, що спочатку перевіряється.\n",
        "# elif дозволяє перевіряти додаткові умови, якщо попередні умови (if або інші elif) не істинні.\n",
        "# else виконує блок коду, якщо жодна з попередніх умов (if і всі elif) не є істинною.\n",
        "\n",
        "if(4 > 3):\n",
        "  print('True')\n",
        "  a+=1 # a= a + 1\n",
        "  print(a)\n",
        "elif 3.4 in [3.3, 3.4, 3.5, 3.6]:\n",
        "  print('Yasss')\n",
        "else:\n",
        "  print('False')\n"
      ],
      "metadata": {
        "colab": {
          "base_uri": "https://localhost:8080/"
        },
        "id": "d7kFiLH-JCtc",
        "outputId": "34c4c3ce-ed55-4d4a-cbbf-08f2a51d3282"
      },
      "execution_count": null,
      "outputs": [
        {
          "output_type": "stream",
          "name": "stdout",
          "text": [
            "True\n",
            "1003\n"
          ]
        }
      ]
    },
    {
      "cell_type": "code",
      "source": [
        "if(4 > 3):\n",
        "  print('True')\n",
        "  a+=1 # a= a + 1\n",
        "  print(a)\n",
        "elif 3.4 in [3.3, 3.4, 3.5, 3.6]:\n",
        "  print('Yasss')\n",
        "else:\n",
        "  print('False')\n"
      ],
      "metadata": {
        "id": "RztyRMpgQDK-"
      },
      "execution_count": null,
      "outputs": []
    },
    {
      "cell_type": "code",
      "source": [
        "# Loops\n",
        "\n",
        "# ділиться на for i while\n",
        "\n",
        "# while - поки, подібний до if, але умова виконується поки умова True\n",
        "\n",
        "# for - iterable(тобто, можна проходитися по циклу(list, set, dict, tuple))\n",
        "# for Var in Iterable\n",
        "\n",
        "counter = 1\n",
        "while counter != 10 :\n",
        "  counter += 1\n",
        "  print(counter)\n",
        "\n",
        "\n",
        "for counter in [1, 2, 3, 4 , 5] :\n",
        "  print(counter)\n",
        "\n",
        "i = 0\n",
        "for i in [1, 2, 3, 4] :\n",
        " print(i)"
      ],
      "metadata": {
        "id": "PA3PXuNBTKih"
      },
      "execution_count": null,
      "outputs": []
    },
    {
      "cell_type": "code",
      "source": [
        "# range\n",
        "var1 = 10\n",
        "\n",
        "print(range(10))\n",
        "print(tuple(range(10)))\n",
        "print(list(range(10)))\n",
        "print(set(range(10)))\n",
        "print(set(range(var1)))\n"
      ],
      "metadata": {
        "colab": {
          "base_uri": "https://localhost:8080/"
        },
        "id": "rnAkDnzJLiiq",
        "outputId": "a081d79f-52c7-4e30-b732-0fe147c796ea"
      },
      "execution_count": null,
      "outputs": [
        {
          "output_type": "stream",
          "name": "stdout",
          "text": [
            "range(0, 10)\n",
            "(0, 1, 2, 3, 4, 5, 6, 7, 8, 9)\n",
            "[0, 1, 2, 3, 4, 5, 6, 7, 8, 9]\n",
            "{0, 1, 2, 3, 4, 5, 6, 7, 8, 9}\n"
          ]
        }
      ]
    },
    {
      "cell_type": "code",
      "source": [
        "# range + for\n",
        "range(10) # лінивий об'єкт\n",
        "for i in range(10):\n",
        "# for + локальна зміна + in + Iterable\n",
        "  print(i)"
      ],
      "metadata": {
        "id": "7SU2YVt1MX7V"
      },
      "execution_count": null,
      "outputs": []
    },
    {
      "cell_type": "code",
      "source": [
        "for num in [55, 87, 34, 26, 901]:\n",
        "  print(num/2)\n",
        "\n",
        "my_list = [num for num in range(20)]\n",
        "print(my_list)"
      ],
      "metadata": {
        "colab": {
          "base_uri": "https://localhost:8080/"
        },
        "id": "LPJyowEBNp_O",
        "outputId": "77d64c9b-78ff-4dcb-99a3-5fd671b6e58d"
      },
      "execution_count": null,
      "outputs": [
        {
          "output_type": "stream",
          "name": "stdout",
          "text": [
            "27.5\n",
            "43.5\n",
            "17.0\n",
            "13.0\n",
            "450.5\n",
            "[0, 1, 2, 3, 4, 5, 6, 7, 8, 9, 10, 11, 12, 13, 14, 15, 16, 17, 18, 19]\n"
          ]
        }
      ]
    }
  ]
}