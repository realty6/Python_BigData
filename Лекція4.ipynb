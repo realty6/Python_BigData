{
  "nbformat": 4,
  "nbformat_minor": 0,
  "metadata": {
    "colab": {
      "provenance": [],
      "include_colab_link": true
    },
    "kernelspec": {
      "name": "python3",
      "display_name": "Python 3"
    },
    "language_info": {
      "name": "python"
    }
  },
  "cells": [
    {
      "cell_type": "markdown",
      "metadata": {
        "id": "view-in-github",
        "colab_type": "text"
      },
      "source": [
        "<a href=\"https://colab.research.google.com/github/realty6/Python_BigData/blob/main/%D0%9B%D0%B5%D0%BA%D1%86%D1%96%D1%8F4.ipynb\" target=\"_parent\"><img src=\"https://colab.research.google.com/assets/colab-badge.svg\" alt=\"Open In Colab\"/></a>"
      ]
    },
    {
      "cell_type": "code",
      "execution_count": null,
      "metadata": {
        "id": "Dezs9iBBfYZU"
      },
      "outputs": [],
      "source": [
        "# Functions - логічно підписаний шматок коду\n",
        "\n",
        "# назви - дуже важливі\n",
        "\n",
        "def func_name(arg, kwarg = None): # def - define\n",
        "  # function body, local namespace\n",
        "  [return] # стрілочка на вихід, 1 - 2 значення, опціональний"
      ]
    },
    {
      "cell_type": "code",
      "source": [
        "# поки невизначена функція, яку можна використовувати, але вона поки не оголошена\n",
        "def my_func():\n",
        "  pass # коли тіло повністю пусте"
      ],
      "metadata": {
        "id": "1Ews_rKRg9Lc"
      },
      "execution_count": null,
      "outputs": []
    },
    {
      "cell_type": "code",
      "source": [
        "def print_func(str_to_print = \"Hello world\"):\n",
        "  print(str_to_print) # None, так як нема return"
      ],
      "metadata": {
        "id": "Z0NYfo98f3RI"
      },
      "execution_count": null,
      "outputs": []
    },
    {
      "cell_type": "code",
      "source": [
        "def one_more_my_func(arg):\n",
        "  return"
      ],
      "metadata": {
        "id": "gn9BVJlGhEWr"
      },
      "execution_count": null,
      "outputs": []
    },
    {
      "cell_type": "code",
      "source": [
        "def one_more_my_func(arg):\n",
        "  return None"
      ],
      "metadata": {
        "id": "tbcKFlBGhEfi"
      },
      "execution_count": null,
      "outputs": []
    },
    {
      "cell_type": "code",
      "source": [
        "arg1 = 2\n",
        "arg2 = 4\n",
        "def comp_min(arg1, arg2):\n",
        "  if arg1 <= arg2:\n",
        "    return arg1\n",
        "  else:\n",
        "    return arg2\n",
        "print(comp_min(arg1, arg2))"
      ],
      "metadata": {
        "colab": {
          "base_uri": "https://localhost:8080/"
        },
        "id": "bU82G53QhElQ",
        "outputId": "4970f24e-27a3-45d6-d82a-e1b13accc67f"
      },
      "execution_count": null,
      "outputs": [
        {
          "output_type": "stream",
          "name": "stdout",
          "text": [
            "2\n"
          ]
        }
      ]
    },
    {
      "cell_type": "markdown",
      "source": [
        "**Аргументи**\n",
        "Аргументи діляться на:\n",
        "1. Necessary (Args) - позиційний аргумент\n",
        "2. Unnecessary (KwArgs) - KeyWord аргумент"
      ],
      "metadata": {
        "id": "Nw6QF911575g"
      }
    },
    {
      "cell_type": "markdown",
      "source": [],
      "metadata": {
        "id": "3oswvOg657QJ"
      }
    },
    {
      "cell_type": "code",
      "source": [
        "def print_info(name, age):\n",
        "    print(f\"Ім'я: {name}, Вік: {age}\")\n",
        "\n",
        "print_info(\"Анна\", 23)\n"
      ],
      "metadata": {
        "colab": {
          "base_uri": "https://localhost:8080/"
        },
        "id": "xb3bkGAs7mTc",
        "outputId": "86b96172-56c5-4680-c25f-d8f1a3079f48"
      },
      "execution_count": null,
      "outputs": [
        {
          "output_type": "stream",
          "name": "stdout",
          "text": [
            "Ім'я: Анна, Вік: 23\n"
          ]
        }
      ]
    },
    {
      "cell_type": "code",
      "source": [
        "def print_info(name, age=25):\n",
        "    print(f\"Ім'я: {name}, Вік: {age}\")\n",
        "\n",
        "print_info(age=30, name=\"Іван\")  # Використання ключових слова аргументів\n",
        "print_info(name=\"Олег\")  # Вік не вказано, тому буде використано значення за замовчуванням\n"
      ],
      "metadata": {
        "colab": {
          "base_uri": "https://localhost:8080/"
        },
        "id": "877b4D6J9Hlh",
        "outputId": "f451935f-8c65-4e53-e7a0-c44c344df5f0"
      },
      "execution_count": null,
      "outputs": [
        {
          "output_type": "stream",
          "name": "stdout",
          "text": [
            "Ім'я: Іван, Вік: 30\n",
            "Ім'я: Олег, Вік: 25\n"
          ]
        }
      ]
    },
    {
      "cell_type": "code",
      "source": [
        "def multiply(num_a, num_b = 100):\n",
        "  mult_result = num_a * num_b\n",
        "  return mult_result\n",
        "\n",
        "#1\n",
        "multiply(3, 4) # 12\n",
        "multiply(num_a = 3, num_b = 4) # 12\n",
        "multiply(4)"
      ],
      "metadata": {
        "colab": {
          "base_uri": "https://localhost:8080/"
        },
        "id": "WbnOc5IN9oQP",
        "outputId": "9c446094-fbaf-4f01-cacc-11094bae2def"
      },
      "execution_count": null,
      "outputs": [
        {
          "output_type": "execute_result",
          "data": {
            "text/plain": [
              "400"
            ]
          },
          "metadata": {},
          "execution_count": 11
        }
      ]
    },
    {
      "cell_type": "code",
      "source": [
        "def example(a, b, c):\n",
        "  return a, b, c\n",
        "result = example(1, 2, 3)\n",
        "result # tuple"
      ],
      "metadata": {
        "colab": {
          "base_uri": "https://localhost:8080/"
        },
        "id": "bkui3I2q_uay",
        "outputId": "10d852cd-9672-4968-cfee-311f0b777ae9"
      },
      "execution_count": null,
      "outputs": [
        {
          "output_type": "execute_result",
          "data": {
            "text/plain": [
              "(1, 2, 3)"
            ]
          },
          "metadata": {},
          "execution_count": 12
        }
      ]
    },
    {
      "cell_type": "markdown",
      "source": [
        "Functions(4)\n",
        "Anonymos (lambda, one-lined) functions\n",
        "1. якщо використовуться один раз."
      ],
      "metadata": {
        "id": "Euh_xNTbAXqA"
      }
    },
    {
      "cell_type": "code",
      "source": [
        "lambda arg, kwarg = None: val_to_return\n"
      ],
      "metadata": {
        "id": "ASYkwARJAswJ"
      },
      "execution_count": null,
      "outputs": []
    },
    {
      "cell_type": "code",
      "source": [
        "num_list = [1, 2, 3, 4, 5]\n",
        "exp_num_list = list(map(lambda num: num**2, num_list))\n",
        "print(exp_num_list)"
      ],
      "metadata": {
        "id": "i9NujS30A7mn"
      },
      "execution_count": null,
      "outputs": []
    },
    {
      "cell_type": "code",
      "source": [
        "for i in map(lambda s: s.upper(), 'abac'):\n",
        "  print(i)\n"
      ],
      "metadata": {
        "colab": {
          "base_uri": "https://localhost:8080/"
        },
        "id": "7LUqLsN5Drpr",
        "outputId": "7f918c79-b987-4a04-ccca-0f0fa7b40aa1"
      },
      "execution_count": null,
      "outputs": [
        {
          "output_type": "stream",
          "name": "stdout",
          "text": [
            "A\n",
            "B\n",
            "A\n",
            "C\n"
          ]
        }
      ]
    },
    {
      "cell_type": "code",
      "source": [
        "set(map(lambda s: s.upper(), 'abac'))\n"
      ],
      "metadata": {
        "colab": {
          "base_uri": "https://localhost:8080/"
        },
        "id": "lBlxAxbBD8wN",
        "outputId": "782162d7-3f2b-4d5c-f022-d952079d2a3a"
      },
      "execution_count": null,
      "outputs": [
        {
          "output_type": "execute_result",
          "data": {
            "text/plain": [
              "{'A', 'B', 'C'}"
            ]
          },
          "metadata": {},
          "execution_count": 17
        }
      ]
    },
    {
      "cell_type": "markdown",
      "source": [
        "1. map\n",
        "Функція map застосовує задану функцію до кожного елемента ітерабельного об'єкта (наприклад, списку) і повертає ітератор з результатами. Це корисно, коли вам потрібно виконати однакову операцію для кожного елемента в колекції.\n"
      ],
      "metadata": {
        "id": "IlLuWjwqIAC_"
      }
    },
    {
      "cell_type": "code",
      "source": [
        "numbers = [1, 2, 3, 4]\n",
        "squared = list(map(lambda x: x**2, numbers))\n",
        "print(squared)  # Виведе: [1, 4, 9, 16]"
      ],
      "metadata": {
        "id": "3uzl78UKIKnT"
      },
      "execution_count": null,
      "outputs": []
    },
    {
      "cell_type": "markdown",
      "source": [
        "2. filter\n",
        "Функція filter використовується для відбору елементів ітерабельного об'єкта, які задовольняють певну умову (задану функцією). Вона повертає ітератор з тими елементами, для яких функція повернула True.\n"
      ],
      "metadata": {
        "id": "eXxeS1phICYv"
      }
    },
    {
      "cell_type": "code",
      "source": [
        "numbers = [1, 2, 3, 4, 5, 6]\n",
        "even_numbers = list(filter(lambda x: x % 2 == 0, numbers))\n",
        "print(even_numbers)  # Виведе: [2, 4, 6]"
      ],
      "metadata": {
        "id": "Nd7bmh4BINsG"
      },
      "execution_count": null,
      "outputs": []
    },
    {
      "cell_type": "markdown",
      "source": [
        "3. reduce\n",
        "Функція reduce використовується для послідовного застосування заданої функції до елементів ітерабельного об'єкта, зменшуючи колекцію до одного значення. Для використання reduce потрібно імпортувати її з модуля functools.\n"
      ],
      "metadata": {
        "id": "8v_W_Si2IGlB"
      }
    },
    {
      "cell_type": "code",
      "source": [
        "from functools import reduce\n",
        "\n",
        "numbers = [1, 2, 3, 4]\n",
        "sum_result = reduce(lambda x, y: x + y, numbers)\n",
        "print(sum_result)  # Виведе: 10 (1+2+3+4)"
      ],
      "metadata": {
        "colab": {
          "base_uri": "https://localhost:8080/"
        },
        "id": "LBVu8Gf7ISoM",
        "outputId": "5f68fc36-97ba-41a1-8b53-bfd9e35c0780"
      },
      "execution_count": null,
      "outputs": [
        {
          "output_type": "stream",
          "name": "stdout",
          "text": [
            "28\n"
          ]
        }
      ]
    },
    {
      "cell_type": "markdown",
      "source": [
        "Decorators - функції, які прйимають іншу функцію в якості аргумента і прриймають третю функцію в якості значення\n",
        "Тобто вони будуть переписувати стару функцію з додаванням якось ще функціоналу"
      ],
      "metadata": {
        "id": "GSuYziPqJm2y"
      }
    },
    {
      "cell_type": "code",
      "source": [
        "# decorators\n",
        "def my_decorater(func): # my_decorater - буде заміщати функцію func, яку ми взяли в якості аргументу\n",
        "  def wrapper():\n",
        "    print(\"Something is happening before the function is called\")\n",
        "    func()\n",
        "    print(\"Something is happening after the function is called\")\n",
        "  return wrapper\n"
      ],
      "metadata": {
        "id": "TDO-PD7sIoTW"
      },
      "execution_count": null,
      "outputs": []
    },
    {
      "cell_type": "code",
      "source": [
        "from time import perf_counter\n",
        "# function_1\n",
        "def short():\n",
        "  for _ in range(1000):\n",
        "    pass\n",
        "\n",
        "# function_2\n",
        "def long():\n",
        "  for _ in range (1000000):\n",
        "    pass\n",
        "\n",
        "#\n",
        "def timeit(func):\n",
        "  def wrapper():\n",
        "    start = perf_counter()\n",
        "    delta = stop - start\n",
        "    print(delta)\n",
        "    return None\n",
        "  return wrapper\n",
        "\n",
        "# decorator\n",
        "@timeit\n",
        "def short()\n",
        "  for _ in range(1000)\n",
        "\n",
        "# decorator_2\n",
        "long = timeit(long)"
      ],
      "metadata": {
        "colab": {
          "base_uri": "https://localhost:8080/",
          "height": 106
        },
        "id": "coloA3CG4PXR",
        "outputId": "bcaba429-9cd1-4882-d524-a85fcd305b57"
      },
      "execution_count": null,
      "outputs": [
        {
          "output_type": "error",
          "ename": "SyntaxError",
          "evalue": "expected ':' (<ipython-input-5-5bffac7c2d40>, line 23)",
          "traceback": [
            "\u001b[0;36m  File \u001b[0;32m\"<ipython-input-5-5bffac7c2d40>\"\u001b[0;36m, line \u001b[0;32m23\u001b[0m\n\u001b[0;31m    def short()\u001b[0m\n\u001b[0m               ^\u001b[0m\n\u001b[0;31mSyntaxError\u001b[0m\u001b[0;31m:\u001b[0m expected ':'\n"
          ]
        }
      ]
    },
    {
      "cell_type": "code",
      "source": [],
      "metadata": {
        "id": "orezKV-k4hMn"
      },
      "execution_count": null,
      "outputs": []
    }
  ]
}