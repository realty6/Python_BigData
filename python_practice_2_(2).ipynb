{
  "nbformat": 4,
  "nbformat_minor": 0,
  "metadata": {
    "colab": {
      "provenance": [],
      "include_colab_link": true
    },
    "kernelspec": {
      "name": "python3",
      "display_name": "Python 3"
    },
    "language_info": {
      "name": "python"
    }
  },
  "cells": [
    {
      "cell_type": "markdown",
      "metadata": {
        "id": "view-in-github",
        "colab_type": "text"
      },
      "source": [
        "<a href=\"https://colab.research.google.com/github/realty6/Python_BigData/blob/main/python_practice_2_(2).ipynb\" target=\"_parent\"><img src=\"https://colab.research.google.com/assets/colab-badge.svg\" alt=\"Open In Colab\"/></a>"
      ]
    },
    {
      "cell_type": "markdown",
      "source": [
        "# I. Змінні та памʼять."
      ],
      "metadata": {
        "id": "p9wwt0LZzNvn"
      }
    },
    {
      "cell_type": "markdown",
      "source": [
        "1. Створити змінні, що посилаються на два цілих числа, що однакові за значенням, де значення належить проміжку від -5 до 256. Перевірте, чи будуть ці змінні рівні тільки за значенням або ж ще будуть посилатися на один і той самий обʼєкт в памʼяті? Наведіть код та дайте текстову відповідь нижче."
      ],
      "metadata": {
        "id": "HTJrrm95xSV9"
      }
    },
    {
      "cell_type": "code",
      "execution_count": null,
      "metadata": {
        "id": "TATni2vzayjG"
      },
      "outputs": [],
      "source": [
        "x = 15\n",
        "y = 15\n",
        "print(id(x), id(y)) # 140723512825064 140723512825064\n",
        "\n",
        "# так як в проміжку чисел від -5 до 256 в python у кожного числа такий же id"
      ]
    },
    {
      "cell_type": "markdown",
      "source": [
        "*місце для текстової відповіді"
      ],
      "metadata": {
        "id": "zfRG_o3WbRdg"
      }
    },
    {
      "cell_type": "markdown",
      "source": [
        "2. За допомогою якої функції можна перевірити належність змінної до вказаного типу даних (напр. чи змінна True посилається на значення булевого та цілочисленого типу)?"
      ],
      "metadata": {
        "id": "ISORzt6M3vAt"
      }
    },
    {
      "cell_type": "code",
      "source": [
        "my_variable = True\n",
        "\n",
        "if isinstance(my_variable, (bool, int)):\n",
        "    print(\"my_variable є булевим чи цілим числом.\")\n",
        "else:\n",
        "    print(\"my_variable не є булевим чи цілим числом.\") # my_variable є булевим чи цілим числом.\n",
        "\n"
      ],
      "metadata": {
        "id": "9vL9CFaMbfyo"
      },
      "execution_count": null,
      "outputs": []
    },
    {
      "cell_type": "markdown",
      "source": [
        "# II. Цілі числа та числа з рухомою комою"
      ],
      "metadata": {
        "id": "tRxugKAxwYLw"
      }
    },
    {
      "cell_type": "markdown",
      "source": [
        "3. Створити дві змінні, що посилаються на будь-які ціле число та число з рухомою комою та продемонструвати такі арифметичні операції: додавання, віднімання, ділення, множення, ділення без залишку, ділення по модулю, приведення до ступеню. Всі результати операцій вивести на екран."
      ],
      "metadata": {
        "id": "NLHkgd5Gybc8"
      }
    },
    {
      "cell_type": "code",
      "source": [
        "number1 = 5.7\n",
        "number2 = 3\n",
        "\n",
        "addition_result = number1 + number2\n",
        "print(\"Додавання:\", addition_result)\n",
        "\n",
        "subtraction_result = number1 - number2\n",
        "print(\"Віднімання:\", subtraction_result)\n",
        "\n",
        "\n",
        "division_result = number1 / number2\n",
        "print(\"Ділення:\", division_result)\n",
        "\n",
        "floor_division_result = number1 // number2\n",
        "print(\"Ділення без залишку:\", floor_division_result)\n",
        "\n",
        "\n",
        "modulo_result = number1 % number2\n",
        "print(\"Ділення по модулю:\", modulo_result)\n",
        "\n",
        "\n",
        "exponentiation_result = number1 ** number2\n",
        "print(\"Приведення до ступеню:\", exponentiation_result)"
      ],
      "metadata": {
        "id": "nb8u_3pjb2cA"
      },
      "execution_count": null,
      "outputs": []
    },
    {
      "cell_type": "markdown",
      "source": [
        "4. Використовуючи змінні з вправи 3, продемонструйте механізм явного перетворення типів, де числа з рухомою комою перетворюються на цілі числа. Також визначте змінну, що посилається на значення булевого типу і спробуйте явно привести її до цілого числа."
      ],
      "metadata": {
        "id": "1kBClKgPzZnC"
      }
    },
    {
      "cell_type": "code",
      "source": [
        "int_number = 5\n",
        "float_number = 3.5\n",
        "boolean_value = True\n",
        "\n",
        "converted_float_to_int = int(float_number)\n",
        "print(\"Перетворення числа з рухомою комою на ціле число:\", converted_float_to_int)\n",
        "\n",
        "converted_boolean_to_int = int(boolean_value)\n",
        "print(\"Перетворення булевого значення на ціле число:\", converted_boolean_to_int)"
      ],
      "metadata": {
        "id": "TbqJbkeUcKsD",
        "colab": {
          "base_uri": "https://localhost:8080/"
        },
        "outputId": "f40f7de7-0e06-4a6d-955a-07f8aa01eb60"
      },
      "execution_count": null,
      "outputs": [
        {
          "output_type": "stream",
          "name": "stdout",
          "text": [
            "Перетворення числа з рухомою комою на ціле число: 3\n",
            "Перетворення булевого значення на ціле число: 1\n"
          ]
        }
      ]
    },
    {
      "cell_type": "markdown",
      "source": [
        "# IІІ. Рядки (String)."
      ],
      "metadata": {
        "id": "EVJ7AflwxrZi"
      }
    },
    {
      "cell_type": "markdown",
      "source": [
        "5. Створити пустий рядок двома різними способами."
      ],
      "metadata": {
        "id": "_s5ECzz9zE61"
      }
    },
    {
      "cell_type": "code",
      "source": [
        "str_1 = \"\"\n",
        "str_2 = ''\n",
        "str3 = \"\"\" \"\"\"\n",
        "print(str_1, str_2, str3)"
      ],
      "metadata": {
        "id": "fkZJHu9Scvc-",
        "colab": {
          "base_uri": "https://localhost:8080/"
        },
        "outputId": "d59e2810-0af1-4bd2-ca09-0904aad22af0"
      },
      "execution_count": null,
      "outputs": [
        {
          "output_type": "stream",
          "name": "stdout",
          "text": [
            "   \n"
          ]
        }
      ]
    },
    {
      "cell_type": "markdown",
      "source": [
        "6. Створити рядок з апострофом. Зробити його сирим. Вивести обидва рядка на екран."
      ],
      "metadata": {
        "id": "4Bdn9J3MzLf_"
      }
    },
    {
      "cell_type": "code",
      "source": [],
      "metadata": {
        "id": "ivji_hsmc0GH"
      },
      "execution_count": null,
      "outputs": []
    },
    {
      "cell_type": "markdown",
      "source": [
        "7. Створити змінну, що буде посилатися на Ваше прізвище латинкою. Створити форматований рядок, який буде мати вигляд \"My surname is ______\", де на місці нижніх підкреслень буде Ваше прізвище зі змінної."
      ],
      "metadata": {
        "id": "bg_d8wM4z8dS"
      }
    },
    {
      "cell_type": "code",
      "source": [
        "mu_surname = \"Kerim\"\n",
        "print(f\"My surname is {mu_surname}\")"
      ],
      "metadata": {
        "id": "kuxFgpWndACq"
      },
      "execution_count": null,
      "outputs": []
    },
    {
      "cell_type": "markdown",
      "source": [
        "8. Маючи рядок \"My dog is crazy.\" перетворити його на список [\"my\", \"dog\", \"is\", \"crazy\"]"
      ],
      "metadata": {
        "id": "1Nc6RqvQ0hxU"
      }
    },
    {
      "cell_type": "code",
      "source": [
        "my_str_1 = \"My dog is crazy\"\n",
        "my_list_1 = my_str_1.split()\n",
        "print(my_list_1)"
      ],
      "metadata": {
        "id": "w1Ya4RqedUhw"
      },
      "execution_count": null,
      "outputs": []
    },
    {
      "cell_type": "markdown",
      "source": [
        "# IV. Робота зі списками."
      ],
      "metadata": {
        "id": "GYVqN9uP1D4n"
      }
    },
    {
      "cell_type": "markdown",
      "source": [
        "9. Створити список двома різними за синтаксисом способами. За допомогою вбудованої функції обчисліть довжину одного з них."
      ],
      "metadata": {
        "id": "7-DeDunw2sO-"
      }
    },
    {
      "cell_type": "code",
      "source": [
        "my_list_1 = [1, 2, 3, 4, 5]\n",
        "my_list_2 = list(range(1, 6))\n",
        "\n",
        "length_1 = len(my_list_1)\n",
        "length_2 = len(my_list_2)\n",
        "\n",
        "print(\"Довжина списку:\", length_1)\n",
        "print(\"Довжина списку:\", length_2)"
      ],
      "metadata": {
        "id": "zxg06Uuxdyoh"
      },
      "execution_count": null,
      "outputs": []
    },
    {
      "cell_type": "markdown",
      "source": [
        "10. Створіть два списка та за допомогою спеціального методу додайте другий з них в якості останнього елемента першого."
      ],
      "metadata": {
        "id": "8vmGUTjL22gI"
      }
    },
    {
      "cell_type": "code",
      "source": [
        "list1 = [1, 2, 3]\n",
        "list2 = [4, 5, 6]\n",
        "\n",
        "list1.extend(list2)\n",
        "\n",
        "print(\"Сімбіот:\", list1)"
      ],
      "metadata": {
        "id": "uHtjWYw7d7hm"
      },
      "execution_count": null,
      "outputs": []
    },
    {
      "cell_type": "markdown",
      "source": [
        "11. Створіть список, де елементами цього списку також є списки. Отримай перший елемент з останнього рядка та виведи значення на екран."
      ],
      "metadata": {
        "id": "JC3BkD-67_--"
      }
    },
    {
      "cell_type": "code",
      "source": [
        "list_with_list = [\n",
        "    [1, 2, 3],\n",
        "    [4, 5, 6],\n",
        "    [7, 8, 9],\n",
        "    [\"*\", 0, \"#\"]\n",
        "]\n",
        "\n",
        "last_row = list_with_list[-1]\n",
        "\n",
        "first_element_last_row = last_row[0]\n",
        "\n",
        "print(\"Список зі списками:\", list_with_list)\n",
        "print(\"Останній рядок:\", last_row)\n",
        "print(\"Перший елемент з останнього рядка:\", first_element_last_row)"
      ],
      "metadata": {
        "id": "Kz2jZHsGeLlz"
      },
      "execution_count": null,
      "outputs": []
    },
    {
      "cell_type": "markdown",
      "source": [
        "12. Створіть список з десяти елементів різного типу. Отримайте всі елементи, окрім двох перших та двох останніх та збережіть їх в новій змінній."
      ],
      "metadata": {
        "id": "JA47PKTv8zFK"
      }
    },
    {
      "cell_type": "code",
      "source": [
        "my_list = [15, 3.14, 'Hello, World!', [1, 2, 3], (4, 5, 6), {7, 8, 9}, {'key': 'value', 'name': 'Alim'}, True, 1 + 2j, None]\n",
        "\n",
        "my_new_list = my_list[2:-2]\n",
        "print(f\"список різних типів об'єктів:{my_list}\")\n",
        "print(f\"новий список:{my_new_list}\")"
      ],
      "metadata": {
        "id": "_rHdUR-ueP4-",
        "colab": {
          "base_uri": "https://localhost:8080/"
        },
        "outputId": "bf544e69-0584-4b25-e14b-8de2562f22cb"
      },
      "execution_count": null,
      "outputs": [
        {
          "output_type": "stream",
          "name": "stdout",
          "text": [
            "список різних типів об'єктів:[15, 3.14, 'Hello, World!', [1, 2, 3], (4, 5, 6), {8, 9, 7}, {'key': 'value', 'name': 'Alim'}, True, (1+2j), None]\n",
            "новий список:['Hello, World!', [1, 2, 3], (4, 5, 6), {8, 9, 7}, {'key': 'value', 'name': 'Alim'}, True]\n"
          ]
        }
      ]
    },
    {
      "cell_type": "markdown",
      "source": [
        "# V. Робота з кортежами."
      ],
      "metadata": {
        "id": "pCjR1dJb1Qbi"
      }
    },
    {
      "cell_type": "markdown",
      "source": [
        "14. Створити кортеж з один елементом."
      ],
      "metadata": {
        "id": "fAZCxAX06R_k"
      }
    },
    {
      "cell_type": "code",
      "source": [
        "tuple_1 = (1, )\n",
        "if isinstance(tuple_1, (tuple)):\n",
        "    print(\"Все вийшло\")"
      ],
      "metadata": {
        "id": "H7d82WkQev3e"
      },
      "execution_count": null,
      "outputs": []
    },
    {
      "cell_type": "markdown",
      "source": [
        "**15**. Порівняйте список та кортеж. Назвіть схожості та відмінності, випадки використання."
      ],
      "metadata": {
        "id": "8LCtYcmI6w1M"
      }
    },
    {
      "cell_type": "markdown",
      "source": [
        "1. Mutability\n",
        " list - можна змінювати, а tuple  - ні\n",
        "\n",
        "2. Синтаксис\n",
        " list - [n1, n2, ... n]\n",
        " tuple - (n, )\n",
        "\n",
        "3. Швидкість\n",
        " tuple швидше list\n"
      ],
      "metadata": {
        "id": "fUsN1Hnue0C6"
      }
    },
    {
      "cell_type": "markdown",
      "source": [
        "16. Створіть кортеж з 11ти елементів чисел з рухомою комою та отримайте кожен парний за індексом елемент в зворотньому порядку. Наприклад, маючи (1.2, 2.3, 3.3, 4.3, 5.3, 6.3, 7.3, 8.3, 9.3, 0.3), отримати (0.3, 8.3, 6.3, 4.3, 2.3). Результат збережіть в нову змінну та виведіть на екран."
      ],
      "metadata": {
        "id": "m0xrwFijAmDD"
      }
    },
    {
      "cell_type": "code",
      "source": [
        "int_1 = (1, 2, 3, 4, 5, 6, 7, 8, 9, 10, 11)\n",
        "result = int_1[::-2]\n",
        "print(result)"
      ],
      "metadata": {
        "id": "p-5DAH6XfAGA"
      },
      "execution_count": null,
      "outputs": []
    },
    {
      "cell_type": "markdown",
      "source": [
        "# VI. Множини (Set)."
      ],
      "metadata": {
        "id": "rW_I9dt3x6cW"
      }
    },
    {
      "cell_type": "markdown",
      "source": [
        "17. Створити множину без елементів. Після цого за допомогою методу додайте кілька різних елементів до множини. Чи множини є змінним типом даних?"
      ],
      "metadata": {
        "id": "zNjRLHLw1Bgg"
      }
    },
    {
      "cell_type": "code",
      "source": [
        "my_set_1 = set()\n",
        "\n",
        "my_set_1.add(1)\n",
        "my_set_1.add(2)\n",
        "my_set_1.add(3)\n",
        "\n",
        "print(my_set_1)\n",
        "# sets are muttable in Python"
      ],
      "metadata": {
        "id": "KOv7zc2Kfo4N"
      },
      "execution_count": null,
      "outputs": []
    },
    {
      "cell_type": "markdown",
      "source": [
        "*місце для текстової відповіді"
      ],
      "metadata": {
        "id": "vxS6dVYiftZQ"
      }
    },
    {
      "cell_type": "markdown",
      "source": [
        "18. Створити множину, маючи список my_list = [1, 1, 2, 67, 67, 8, 9]. Пояснити, чому \"зникли\" деякі елементи."
      ],
      "metadata": {
        "id": "gHpT0Zw_1HEF"
      }
    },
    {
      "cell_type": "code",
      "source": [
        "my_list = [1, 1, 2, 67, 67, 8, 9]\n",
        "my_set = set(my_list)\n",
        "print(my_set)\n",
        "# Множина (Set) - це структура даних, яка представляє собою невпорядкований набір унікальних елементів."
      ],
      "metadata": {
        "id": "qCN4uvJ_fxmu",
        "colab": {
          "base_uri": "https://localhost:8080/"
        },
        "outputId": "9d161318-54b1-4b19-a90b-b11a4418c2a0"
      },
      "execution_count": null,
      "outputs": [
        {
          "output_type": "stream",
          "name": "stdout",
          "text": [
            "{1, 2, 67, 8, 9}\n"
          ]
        }
      ]
    },
    {
      "cell_type": "markdown",
      "source": [
        "*місце для текстової відповіді"
      ],
      "metadata": {
        "id": "tFNc1e20fyny"
      }
    },
    {
      "cell_type": "markdown",
      "source": [
        "19. Створіть дві множини. Продемонстуйте над ними операції: обʼєднання, різниці, пересічі та симетричної різниці. Використовуйте методи, що не змінюють множини, а створюють нові."
      ],
      "metadata": {
        "id": "SRMkGizS1UwY"
      }
    },
    {
      "cell_type": "code",
      "source": [
        "\n",
        "set_1 = {1, 2, 3, 4, 5, 6}\n",
        "set_2 = {5, 6, 7, 8, 9, 10}\n",
        "\n",
        "\n",
        "union_set = set_1.union(set_2)\n",
        "print(\"обʼєднання:\", union_set)\n",
        "\n",
        "\n",
        "difference_set = set_1.difference(set_2)\n",
        "print(\"різниця (set_1 - set_2):\", difference_set)\n",
        "\n",
        "\n",
        "intersection_set = set_1.intersection(set_2)\n",
        "print(\"пересіч:\", intersection_set)\n",
        "\n",
        "\n",
        "symmetric_difference_set = set_1.symmetric_difference(set_2)\n",
        "print(\"симетричної різниця:\", symmetric_difference_set)"
      ],
      "metadata": {
        "id": "h0T-VuDnf3Ri"
      },
      "execution_count": null,
      "outputs": []
    },
    {
      "cell_type": "markdown",
      "source": [
        "# VII. Словники (Dictionary)."
      ],
      "metadata": {
        "id": "kWc8gkzTx7Ea"
      }
    },
    {
      "cell_type": "markdown",
      "source": [
        "20. Створіть пустий словник. До нього додайте чотири пари елементів такі, щоб їхні ключі були різних типів. Чи може список бути ключем? Чому?"
      ],
      "metadata": {
        "id": "i5FLwj-B2ybQ"
      }
    },
    {
      "cell_type": "code",
      "source": [
        "d = {}\n",
        "d[\"str\"] = \"string\"\n",
        "d[1] = \"int\"\n",
        "d[3.14] = \"float\"\n",
        "d[(5, 4)] = \"tuple\"\n",
        "\n",
        "print(d)"
      ],
      "metadata": {
        "id": "hxgv3BzrgLAV",
        "colab": {
          "base_uri": "https://localhost:8080/"
        },
        "outputId": "efc8808f-cce1-4d2e-c54d-c1c0a0a17ba3"
      },
      "execution_count": null,
      "outputs": [
        {
          "output_type": "stream",
          "name": "stdout",
          "text": [
            "{'str': 'string', 1: 'int', 3.14: 'float', (5, 4): 'tuple'}\n"
          ]
        }
      ]
    },
    {
      "cell_type": "markdown",
      "source": [
        " не може бути, так як lists are muttable"
      ],
      "metadata": {
        "id": "zwa7UVN-gR3m"
      }
    },
    {
      "cell_type": "markdown",
      "source": [
        "21. Створіть словник, де значенням в одній з пар теж буде словник, який теж має вкладений словник. Виведіть на екран значення, що міститься в словнику, що знаходиться на найнижчому рівні ієрархії вкладеності (найбільш внутрішній)."
      ],
      "metadata": {
        "id": "WM_pMlJsgoNf"
      }
    },
    {
      "cell_type": "code",
      "source": [
        "d = {\"December\" : 31, \"January\" : 30, 123 : {234 : {345 : \"wwww\"}} }\n",
        "print(d[123][234][345])"
      ],
      "metadata": {
        "id": "60dlP7IHhAy4",
        "colab": {
          "base_uri": "https://localhost:8080/"
        },
        "outputId": "6f712413-4f40-45c4-ce71-4b21fccd1a83"
      },
      "execution_count": null,
      "outputs": [
        {
          "output_type": "stream",
          "name": "stdout",
          "text": [
            "wwww\n"
          ]
        }
      ]
    },
    {
      "cell_type": "markdown",
      "source": [
        "# Вітаю! Ви велика(ий) молодець, що впоралась(вся). Похваліть себе та побалуйте чимось приємним. Я Вами пишаюся."
      ],
      "metadata": {
        "id": "xOZP0hkx6cCr"
      }
    }
  ]
}